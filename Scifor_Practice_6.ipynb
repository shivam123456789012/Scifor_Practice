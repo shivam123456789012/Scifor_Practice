{
 "cells": [
  {
   "cell_type": "code",
   "execution_count": 17,
   "id": "c5bf9980",
   "metadata": {
    "scrolled": true
   },
   "outputs": [],
   "source": [
    "import tensorflow as tf"
   ]
  },
  {
   "cell_type": "code",
   "execution_count": 18,
   "id": "40037d1d",
   "metadata": {},
   "outputs": [],
   "source": [
    "daily_sales=[20,25,-60,18,23,-41,35]"
   ]
  },
  {
   "cell_type": "code",
   "execution_count": 19,
   "id": "e69bc82f",
   "metadata": {},
   "outputs": [
    {
     "data": {
      "text/plain": [
       "<_TensorSliceDataset element_spec=TensorSpec(shape=(), dtype=tf.int32, name=None)>"
      ]
     },
     "execution_count": 19,
     "metadata": {},
     "output_type": "execute_result"
    }
   ],
   "source": [
    "tf_dataset=tf.data.Dataset.from_tensor_slices(daily_sales)\n",
    "tf_dataset"
   ]
  },
  {
   "cell_type": "code",
   "execution_count": 20,
   "id": "8f00d114",
   "metadata": {},
   "outputs": [
    {
     "name": "stdout",
     "output_type": "stream",
     "text": [
      "20\n",
      "25\n",
      "-60\n",
      "18\n",
      "23\n",
      "-41\n",
      "35\n"
     ]
    }
   ],
   "source": [
    "for sales in tf_dataset:\n",
    "    print(sales.numpy())"
   ]
  },
  {
   "cell_type": "code",
   "execution_count": 21,
   "id": "a7c46a76",
   "metadata": {},
   "outputs": [
    {
     "name": "stdout",
     "output_type": "stream",
     "text": [
      "20\n",
      "25\n",
      "-60\n",
      "18\n",
      "23\n",
      "-41\n",
      "35\n"
     ]
    }
   ],
   "source": [
    "for sales in tf_dataset.as_numpy_iterator():\n",
    "    print(sales)"
   ]
  },
  {
   "cell_type": "code",
   "execution_count": 22,
   "id": "b0d109a1",
   "metadata": {},
   "outputs": [
    {
     "name": "stdout",
     "output_type": "stream",
     "text": [
      "20\n",
      "25\n",
      "-60\n",
      "18\n"
     ]
    }
   ],
   "source": [
    "for sales in tf_dataset.take(4):\n",
    "    print(sales.numpy())"
   ]
  },
  {
   "cell_type": "code",
   "execution_count": 23,
   "id": "eab1c58a",
   "metadata": {},
   "outputs": [
    {
     "name": "stdout",
     "output_type": "stream",
     "text": [
      "20\n",
      "25\n",
      "18\n",
      "23\n",
      "35\n"
     ]
    }
   ],
   "source": [
    "tf_dataset=tf_dataset.filter(lambda x:x>0)\n",
    "for sales in tf_dataset.as_numpy_iterator():\n",
    "    print(sales)"
   ]
  },
  {
   "cell_type": "code",
   "execution_count": 24,
   "id": "9f85a72f",
   "metadata": {},
   "outputs": [
    {
     "name": "stdout",
     "output_type": "stream",
     "text": [
      "1660\n",
      "2075\n",
      "1494\n",
      "1909\n",
      "2905\n"
     ]
    }
   ],
   "source": [
    "tf_dataset=tf_dataset.map(lambda x:x*83)\n",
    "for sales in tf_dataset.as_numpy_iterator():\n",
    "    print(sales)"
   ]
  },
  {
   "cell_type": "code",
   "execution_count": 25,
   "id": "72b7dcba",
   "metadata": {},
   "outputs": [
    {
     "name": "stdout",
     "output_type": "stream",
     "text": [
      "2075\n",
      "1494\n",
      "1660\n",
      "2905\n",
      "1909\n"
     ]
    }
   ],
   "source": [
    "tf_dataset=tf_dataset.shuffle(3)\n",
    "for sales in tf_dataset.as_numpy_iterator():\n",
    "    print(sales)"
   ]
  },
  {
   "cell_type": "code",
   "execution_count": 26,
   "id": "c01821e7",
   "metadata": {},
   "outputs": [
    {
     "name": "stdout",
     "output_type": "stream",
     "text": [
      "[1660 1909 2075]\n",
      "[1494 2905]\n"
     ]
    }
   ],
   "source": [
    "for sales_batch in tf_dataset.batch(3):\n",
    "    print(sales_batch.numpy())"
   ]
  },
  {
   "cell_type": "code",
   "execution_count": 28,
   "id": "c6538249",
   "metadata": {},
   "outputs": [
    {
     "name": "stdout",
     "output_type": "stream",
     "text": [
      "[1660 1494]\n",
      "[2075 1909]\n",
      "[2905]\n"
     ]
    }
   ],
   "source": [
    "tf_dataset=tf.data.Dataset.from_tensor_slices(daily_sales)\n",
    "tf_dataset=tf_dataset.filter(lambda x:x>0).map(lambda y:y*83).shuffle(2).batch(2)\n",
    "for sales in tf_dataset.as_numpy_iterator():\n",
    "    print(sales)"
   ]
  },
  {
   "cell_type": "code",
   "execution_count": 35,
   "id": "bf87fc06",
   "metadata": {},
   "outputs": [
    {
     "name": "stdout",
     "output_type": "stream",
     "text": [
      "b'vehicle\\\\car\\\\1.jpg'\n",
      "b'vehicle\\\\car\\\\10.jpg'\n",
      "b'vehicle\\\\car\\\\11.jpg'\n"
     ]
    }
   ],
   "source": [
    "image_ds=tf.data.Dataset.list_files(\"vehicle/*/*\",shuffle=False)\n",
    "\n",
    "for file in image_ds.take(3):\n",
    "    print(file.numpy())"
   ]
  },
  {
   "cell_type": "code",
   "execution_count": 37,
   "id": "fddc16a1",
   "metadata": {},
   "outputs": [
    {
     "name": "stdout",
     "output_type": "stream",
     "text": [
      "b'vehicle\\\\car\\\\25.jpg'\n",
      "b'vehicle\\\\plane\\\\30.jpg'\n",
      "b'vehicle\\\\car\\\\42.jpg'\n"
     ]
    }
   ],
   "source": [
    "image_ds=image_ds.shuffle(80)\n",
    "\n",
    "for file in image_ds.take(3):\n",
    "    print(file.numpy())"
   ]
  },
  {
   "cell_type": "code",
   "execution_count": 38,
   "id": "002593d9",
   "metadata": {},
   "outputs": [
    {
     "data": {
      "text/plain": [
       "100"
      ]
     },
     "execution_count": 38,
     "metadata": {},
     "output_type": "execute_result"
    }
   ],
   "source": [
    "image_count=len(image_ds)\n",
    "image_count"
   ]
  },
  {
   "cell_type": "code",
   "execution_count": 39,
   "id": "1bff18d1",
   "metadata": {},
   "outputs": [],
   "source": [
    "train_size=int(image_count*0.8)\n",
    "\n",
    "train_ds=image_ds.take(train_size)\n",
    "test_ds=image_ds.skip(train_size)"
   ]
  },
  {
   "cell_type": "code",
   "execution_count": 40,
   "id": "51f12a58",
   "metadata": {},
   "outputs": [],
   "source": [
    "def get_label(file_path):\n",
    "    import os\n",
    "    return tf.strings.split(file_path,os.path.sep)[-2]"
   ]
  },
  {
   "cell_type": "code",
   "execution_count": 41,
   "id": "2f977fe4",
   "metadata": {},
   "outputs": [
    {
     "name": "stdout",
     "output_type": "stream",
     "text": [
      "b'vehicle\\\\plane\\\\14.jpg'\n",
      "b'vehicle\\\\plane\\\\2.jpg'\n",
      "b'vehicle\\\\plane\\\\48.jpg'\n",
      "b'vehicle\\\\car\\\\19.jpg'\n"
     ]
    }
   ],
   "source": [
    "for i in train_ds.take(4):\n",
    "    print(i.numpy())"
   ]
  },
  {
   "cell_type": "code",
   "execution_count": 42,
   "id": "3ec9dba3",
   "metadata": {},
   "outputs": [
    {
     "name": "stdout",
     "output_type": "stream",
     "text": [
      "tf.Tensor(b'car', shape=(), dtype=string)\n",
      "tf.Tensor(b'car', shape=(), dtype=string)\n",
      "tf.Tensor(b'plane', shape=(), dtype=string)\n",
      "tf.Tensor(b'car', shape=(), dtype=string)\n",
      "tf.Tensor(b'car', shape=(), dtype=string)\n",
      "tf.Tensor(b'car', shape=(), dtype=string)\n",
      "tf.Tensor(b'car', shape=(), dtype=string)\n",
      "tf.Tensor(b'plane', shape=(), dtype=string)\n",
      "tf.Tensor(b'plane', shape=(), dtype=string)\n",
      "tf.Tensor(b'car', shape=(), dtype=string)\n",
      "tf.Tensor(b'car', shape=(), dtype=string)\n",
      "tf.Tensor(b'plane', shape=(), dtype=string)\n",
      "tf.Tensor(b'car', shape=(), dtype=string)\n",
      "tf.Tensor(b'plane', shape=(), dtype=string)\n",
      "tf.Tensor(b'plane', shape=(), dtype=string)\n",
      "tf.Tensor(b'plane', shape=(), dtype=string)\n",
      "tf.Tensor(b'car', shape=(), dtype=string)\n",
      "tf.Tensor(b'plane', shape=(), dtype=string)\n",
      "tf.Tensor(b'plane', shape=(), dtype=string)\n",
      "tf.Tensor(b'car', shape=(), dtype=string)\n",
      "tf.Tensor(b'car', shape=(), dtype=string)\n",
      "tf.Tensor(b'car', shape=(), dtype=string)\n",
      "tf.Tensor(b'car', shape=(), dtype=string)\n",
      "tf.Tensor(b'car', shape=(), dtype=string)\n",
      "tf.Tensor(b'plane', shape=(), dtype=string)\n",
      "tf.Tensor(b'plane', shape=(), dtype=string)\n",
      "tf.Tensor(b'plane', shape=(), dtype=string)\n",
      "tf.Tensor(b'plane', shape=(), dtype=string)\n",
      "tf.Tensor(b'plane', shape=(), dtype=string)\n",
      "tf.Tensor(b'car', shape=(), dtype=string)\n",
      "tf.Tensor(b'car', shape=(), dtype=string)\n",
      "tf.Tensor(b'car', shape=(), dtype=string)\n",
      "tf.Tensor(b'car', shape=(), dtype=string)\n",
      "tf.Tensor(b'plane', shape=(), dtype=string)\n",
      "tf.Tensor(b'plane', shape=(), dtype=string)\n",
      "tf.Tensor(b'car', shape=(), dtype=string)\n",
      "tf.Tensor(b'car', shape=(), dtype=string)\n",
      "tf.Tensor(b'plane', shape=(), dtype=string)\n",
      "tf.Tensor(b'plane', shape=(), dtype=string)\n",
      "tf.Tensor(b'car', shape=(), dtype=string)\n",
      "tf.Tensor(b'car', shape=(), dtype=string)\n",
      "tf.Tensor(b'plane', shape=(), dtype=string)\n",
      "tf.Tensor(b'car', shape=(), dtype=string)\n",
      "tf.Tensor(b'plane', shape=(), dtype=string)\n",
      "tf.Tensor(b'car', shape=(), dtype=string)\n",
      "tf.Tensor(b'plane', shape=(), dtype=string)\n",
      "tf.Tensor(b'plane', shape=(), dtype=string)\n",
      "tf.Tensor(b'car', shape=(), dtype=string)\n",
      "tf.Tensor(b'car', shape=(), dtype=string)\n",
      "tf.Tensor(b'plane', shape=(), dtype=string)\n",
      "tf.Tensor(b'car', shape=(), dtype=string)\n",
      "tf.Tensor(b'car', shape=(), dtype=string)\n",
      "tf.Tensor(b'car', shape=(), dtype=string)\n",
      "tf.Tensor(b'plane', shape=(), dtype=string)\n",
      "tf.Tensor(b'plane', shape=(), dtype=string)\n",
      "tf.Tensor(b'car', shape=(), dtype=string)\n",
      "tf.Tensor(b'plane', shape=(), dtype=string)\n",
      "tf.Tensor(b'plane', shape=(), dtype=string)\n",
      "tf.Tensor(b'car', shape=(), dtype=string)\n",
      "tf.Tensor(b'plane', shape=(), dtype=string)\n",
      "tf.Tensor(b'car', shape=(), dtype=string)\n",
      "tf.Tensor(b'plane', shape=(), dtype=string)\n",
      "tf.Tensor(b'car', shape=(), dtype=string)\n",
      "tf.Tensor(b'plane', shape=(), dtype=string)\n",
      "tf.Tensor(b'plane', shape=(), dtype=string)\n",
      "tf.Tensor(b'plane', shape=(), dtype=string)\n",
      "tf.Tensor(b'car', shape=(), dtype=string)\n",
      "tf.Tensor(b'plane', shape=(), dtype=string)\n",
      "tf.Tensor(b'car', shape=(), dtype=string)\n",
      "tf.Tensor(b'plane', shape=(), dtype=string)\n",
      "tf.Tensor(b'plane', shape=(), dtype=string)\n",
      "tf.Tensor(b'plane', shape=(), dtype=string)\n",
      "tf.Tensor(b'plane', shape=(), dtype=string)\n",
      "tf.Tensor(b'car', shape=(), dtype=string)\n",
      "tf.Tensor(b'car', shape=(), dtype=string)\n",
      "tf.Tensor(b'car', shape=(), dtype=string)\n",
      "tf.Tensor(b'plane', shape=(), dtype=string)\n",
      "tf.Tensor(b'plane', shape=(), dtype=string)\n",
      "tf.Tensor(b'car', shape=(), dtype=string)\n",
      "tf.Tensor(b'car', shape=(), dtype=string)\n"
     ]
    }
   ],
   "source": [
    "for label in train_ds.map(get_label):\n",
    "    print(label)"
   ]
  },
  {
   "cell_type": "code",
   "execution_count": 43,
   "id": "044194fb",
   "metadata": {},
   "outputs": [],
   "source": [
    "def process_image(file_path):\n",
    "    label=get_label(file_path)\n",
    "    \n",
    "    img=tf.io.read_file(file_path)\n",
    "    img=tf.image.decode_jpeg(img)\n",
    "    img=tf.image.resize(img,(128,128))\n",
    "    \n",
    "    return img,label"
   ]
  },
  {
   "cell_type": "code",
   "execution_count": 47,
   "id": "c43ade79",
   "metadata": {},
   "outputs": [
    {
     "name": "stdout",
     "output_type": "stream",
     "text": [
      "image:  tf.Tensor(\n",
      "[[[127.640625 135.64062  138.64062 ]\n",
      "  [148.375    156.375    159.375   ]\n",
      "  [154.9375   162.9375   165.9375  ]\n",
      "  ...\n",
      "  [150.73438  151.73438  143.73438 ]\n",
      "  [156.96875  157.96875  149.96875 ]\n",
      "  [154.35938  155.35938  147.35938 ]]\n",
      "\n",
      " [[ 92.515625 100.515625 103.515625]\n",
      "  [ 90.4375    98.4375   101.4375  ]\n",
      "  [103.234375 111.234375 114.234375]\n",
      "  ...\n",
      "  [149.46875  150.46875  142.46875 ]\n",
      "  [147.5      148.5      140.5     ]\n",
      "  [145.70312  146.70312  138.70312 ]]\n",
      "\n",
      " [[ 92.953125 100.953125 103.953125]\n",
      "  [ 92.1875   100.1875   103.1875  ]\n",
      "  [ 88.90625   96.90625   99.90625 ]\n",
      "  ...\n",
      "  [155.48438  156.48438  148.48438 ]\n",
      "  [152.75     153.75     145.75    ]\n",
      "  [152.375    153.375    145.375   ]]\n",
      "\n",
      " ...\n",
      "\n",
      " [[252.28125  252.15625  247.15625 ]\n",
      "  [253.07812  252.95312  247.95312 ]\n",
      "  [252.3125   252.1875   247.1875  ]\n",
      "  ...\n",
      "  [210.1875   214.1875   215.1875  ]\n",
      "  [210.51562  214.51562  215.51562 ]\n",
      "  [221.64062  225.64062  226.64062 ]]\n",
      "\n",
      " [[182.82812  181.82812  176.82812 ]\n",
      "  [178.70312  177.70312  172.70312 ]\n",
      "  [167.98438  166.98438  161.98438 ]\n",
      "  ...\n",
      "  [206.57812  210.57812  211.57812 ]\n",
      "  [211.5      215.5      216.5     ]\n",
      "  [214.3125   218.3125   219.3125  ]]\n",
      "\n",
      " [[148.5      147.5      142.5     ]\n",
      "  [142.90625  141.90625  136.90625 ]\n",
      "  [149.25     148.25     143.25    ]\n",
      "  ...\n",
      "  [207.0625   211.0625   212.0625  ]\n",
      "  [222.59375  226.59375  227.59375 ]\n",
      "  [218.       222.       223.      ]]], shape=(128, 128, 3), dtype=float32)\n",
      "label:  tf.Tensor(b'plane', shape=(), dtype=string)\n",
      "image:  tf.Tensor(\n",
      "[[[198.25     223.25     220.25    ]\n",
      "  [195.42188  220.42188  217.42188 ]\n",
      "  [195.42188  217.79688  215.67188 ]\n",
      "  ...\n",
      "  [ 72.328125 139.84375  153.04688 ]\n",
      "  [ 74.953125 138.09375  153.04688 ]\n",
      "  [ 74.609375 136.60938  151.60938 ]]\n",
      "\n",
      " [[195.42188  220.42188  217.42188 ]\n",
      "  [193.76562  218.76562  215.76562 ]\n",
      "  [194.75     217.125    215.      ]\n",
      "  ...\n",
      "  [ 74.125    142.125    155.125   ]\n",
      "  [ 74.34375  140.375    154.35938 ]\n",
      "  [ 74.25     137.625    152.5     ]]\n",
      "\n",
      " [[193.125    218.125    215.125   ]\n",
      "  [193.10938  218.10938  215.10938 ]\n",
      "  [195.625    218.       215.875   ]\n",
      "  ...\n",
      "  [ 74.234375 146.5      156.      ]\n",
      "  [ 75.984375 143.98438  155.23438 ]\n",
      "  [ 73.375    141.125    152.5     ]]\n",
      "\n",
      " ...\n",
      "\n",
      " [[123.46875  122.46875  117.46875 ]\n",
      "  [136.95312  136.95312  128.95312 ]\n",
      "  [151.60938  151.60938  143.60938 ]\n",
      "  ...\n",
      "  [ 99.359375 104.359375  97.359375]\n",
      "  [ 89.84375   94.84375   87.84375 ]\n",
      "  [ 85.234375  90.234375  83.234375]]\n",
      "\n",
      " [[135.28125  134.28125  129.28125 ]\n",
      "  [141.10938  141.10938  133.10938 ]\n",
      "  [141.21875  141.21875  133.21875 ]\n",
      "  ...\n",
      "  [ 79.015625  84.015625  77.015625]\n",
      "  [ 97.0625   102.0625    95.0625  ]\n",
      "  [ 93.65625   98.65625   91.65625 ]]\n",
      "\n",
      " [[118.90625  117.90625  112.90625 ]\n",
      "  [135.65625  135.65625  127.65625 ]\n",
      "  [141.23438  141.23438  133.23438 ]\n",
      "  ...\n",
      "  [ 77.328125  82.328125  75.328125]\n",
      "  [ 90.125     95.125     88.125   ]\n",
      "  [ 75.828125  80.828125  73.828125]]], shape=(128, 128, 3), dtype=float32)\n",
      "label:  tf.Tensor(b'car', shape=(), dtype=string)\n"
     ]
    }
   ],
   "source": [
    "for img,label in train_ds.map(process_image).take(2):\n",
    "    print(\"image: \",img)\n",
    "    print(\"label: \",label)"
   ]
  },
  {
   "cell_type": "code",
   "execution_count": null,
   "id": "5ebb7c3c",
   "metadata": {},
   "outputs": [],
   "source": []
  }
 ],
 "metadata": {
  "kernelspec": {
   "display_name": "Python 3 (ipykernel)",
   "language": "python",
   "name": "python3"
  },
  "language_info": {
   "codemirror_mode": {
    "name": "ipython",
    "version": 3
   },
   "file_extension": ".py",
   "mimetype": "text/x-python",
   "name": "python",
   "nbconvert_exporter": "python",
   "pygments_lexer": "ipython3",
   "version": "3.9.13"
  }
 },
 "nbformat": 4,
 "nbformat_minor": 5
}
